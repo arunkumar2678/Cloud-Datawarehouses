{
 "cells": [
  {
   "cell_type": "code",
   "execution_count": 1,
   "metadata": {
    "editable": true
   },
   "outputs": [
    {
     "name": "stdout",
     "output_type": "stream",
     "text": [
      "table created\n",
      "table created\n",
      "table created\n",
      "table created\n",
      "table created\n",
      "table created\n",
      "table created\n",
      "table copied\n",
      "table copied\n"
     ]
    }
   ],
   "source": [
    "import configparser\n",
    "import pandas\n",
    "import psycopg2\n",
    "from sql_queries import create_table_queries, drop_table_queries, copy_table_queries, insert_table_queries\n",
    "\n",
    "\n",
    "def drop_tables(cur, conn):\n",
    "    for query in drop_table_queries:\n",
    "        cur.execute(query)\n",
    "        conn.commit()\n",
    "\n",
    "\n",
    "def create_tables(cur, conn):\n",
    "    for query in create_table_queries:\n",
    "        cur.execute(query)\n",
    "        print(\"table created\")\n",
    "        conn.commit()\n",
    "\n",
    "\n",
    "def copy_tables(cur,conn):\n",
    "    for query in copy_table_queries:\n",
    "        cur.execute(query)\n",
    "        print(\"table copied\")\n",
    "        conn.commit()\n",
    "\n",
    "        \n",
    "def insert_tables(cur,conn):\n",
    "    for query in insert_table_queries:\n",
    "        cur.execute(query)\n",
    "        conn.commit()\n",
    "\n",
    "    \n",
    "def main():\n",
    "    config = configparser.ConfigParser()\n",
    "    config.read('dwh.cfg')\n",
    "\n",
    "    conn = psycopg2.connect(\"host={} dbname={} user={} password={} port={}\".format(*config['CLUSTER'].values()))\n",
    "    cur = conn.cursor()\n",
    "\n",
    "    drop_tables(cur, conn)\n",
    "    create_tables(cur, conn)\n",
    "    copy_tables(cur,conn)\n",
    "    insert_tables(cur,conn)\n",
    "\n",
    "  \n",
    "    conn.close()\n",
    "\n",
    "\n",
    "if __name__ == \"__main__\":\n",
    "    main()"
   ]
  },
  {
   "cell_type": "code",
   "execution_count": null,
   "metadata": {
    "editable": true
   },
   "outputs": [],
   "source": []
  }
 ],
 "metadata": {
  "kernelspec": {
   "display_name": "Python 3",
   "language": "python",
   "name": "python3"
  },
  "language_info": {
   "codemirror_mode": {
    "name": "ipython",
    "version": 3
   },
   "file_extension": ".py",
   "mimetype": "text/x-python",
   "name": "python",
   "nbconvert_exporter": "python",
   "pygments_lexer": "ipython3",
   "version": "3.6.3"
  }
 },
 "nbformat": 4,
 "nbformat_minor": 4
}
